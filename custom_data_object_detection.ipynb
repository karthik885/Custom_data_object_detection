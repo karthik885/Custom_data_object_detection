{
  "nbformat": 4,
  "nbformat_minor": 0,
  "metadata": {
    "colab": {
      "provenance": []
    },
    "kernelspec": {
      "name": "python3",
      "display_name": "Python 3"
    },
    "language_info": {
      "name": "python"
    }
  },
  "cells": [
    {
      "cell_type": "markdown",
      "source": [
        "Run Object Detection on Images"
      ],
      "metadata": {
        "id": "pf3nEBSHkfOv"
      }
    },
    {
      "cell_type": "code",
      "execution_count": null,
      "metadata": {
        "id": "kINdVC_Fkbo3"
      },
      "outputs": [],
      "source": [
        "import cv2\n",
        "from ultralytics import YOLO\n",
        "\n",
        "# Load trained model\n",
        "model = YOLO(\"runs/detect/train/weights/best.pt\")  # Path to trained weights\n",
        "\n",
        "# Load and detect objects in an image\n",
        "image_path = \"test_image.jpg\"\n",
        "image = cv2.imread(image_path)\n",
        "results = model(image)\n",
        "\n",
        "# Draw bounding boxes\n",
        "for result in results:\n",
        "    for box in result.boxes:\n",
        "        x1, y1, x2, y2 = map(int, box.xyxy[0])\n",
        "        label = result.names[int(box.cls[0])]\n",
        "        confidence = float(box.conf[0])\n",
        "        cv2.rectangle(image, (x1, y1), (x2, y2), (0, 255, 0), 2)\n",
        "        cv2.putText(image, f\"{label} {confidence:.2f}\", (x1, y1 - 10),\n",
        "                    cv2.FONT_HERSHEY_SIMPLEX, 0.5, (0, 255, 0), 2)\n",
        "\n",
        "# Show result\n",
        "cv2.imshow(\"Detection\", image)\n",
        "cv2.waitKey(0)\n",
        "cv2.destroyAllWindows()\n"
      ]
    },
    {
      "cell_type": "markdown",
      "source": [
        "Real-Time Detection via Webcam"
      ],
      "metadata": {
        "id": "wyTs-dLukjlW"
      }
    },
    {
      "cell_type": "code",
      "source": [
        "import cv2\n",
        "from ultralytics import YOLO\n",
        "\n",
        "# Load trained model\n",
        "model = YOLO(\"runs/detect/train/weights/best.pt\")\n",
        "\n",
        "cap = cv2.VideoCapture(0)  # 0 for webcam\n",
        "\n",
        "while cap.isOpened():\n",
        "    ret, frame = cap.read()\n",
        "    if not ret:\n",
        "        break\n",
        "\n",
        "    results = model(frame)\n",
        "\n",
        "    for result in results:\n",
        "        for box in result.boxes:\n",
        "            x1, y1, x2, y2 = map(int, box.xyxy[0])\n",
        "            label = result.names[int(box.cls[0])]\n",
        "            confidence = float(box.conf[0])\n",
        "            cv2.rectangle(frame, (x1, y1), (x2, y2), (0, 255, 0), 2)\n",
        "            cv2.putText(frame, f\"{label} {confidence:.2f}\", (x1, y1 - 10),\n",
        "                        cv2.FONT_HERSHEY_SIMPLEX, 0.5, (0, 255, 0), 2)\n",
        "\n",
        "    cv2.imshow(\"Real-Time Detection\", frame)\n",
        "\n",
        "    if cv2.waitKey(1) & 0xFF == ord(\"q\"):\n",
        "        break\n",
        "\n",
        "cap.release()\n",
        "cv2.destroyAllWindows()\n"
      ],
      "metadata": {
        "id": "nCTHlY-iklx0"
      },
      "execution_count": null,
      "outputs": []
    }
  ]
}